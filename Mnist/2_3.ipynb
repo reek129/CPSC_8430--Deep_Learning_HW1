{
 "cells": [
  {
   "cell_type": "code",
   "execution_count": 1,
   "id": "871e8888",
   "metadata": {},
   "outputs": [],
   "source": [
    "import torch.nn as nn\n",
    "from torch.optim import lr_scheduler\n",
    "import torch\n",
    "import numpy as np\n",
    "import pandas as pd\n",
    "\n",
    "from sklearn.preprocessing import StandardScaler\n",
    "from sklearn.decomposition import PCA\n",
    "import matplotlib.pyplot as plt\n",
    "\n",
    "import torchvision\n",
    "import torchvision.transforms as transforms\n",
    "\n",
    "import torch.nn.functional as F"
   ]
  },
  {
   "cell_type": "code",
   "execution_count": 39,
   "id": "ca7c0f72",
   "metadata": {},
   "outputs": [],
   "source": [
    "\n",
    "# initial Parameters\n",
    "num_of_rows = 300\n",
    "lr = 0.0004\n",
    "gamma_lr_scheduler = 0.1 \n",
    "weight_decay = 1e-4\n",
    "criterion = nn.MSELoss()\n",
    "optimizer = torch.optim.Adam\n",
    "num_epochs =2500\n",
    "criterion_name = \"MSE_LOSS_\"\n",
    "optimizer_name = \"ADAM_opt\"\n",
    "filename = criterion_name+ optimizer_name+\".png\"\n",
    "grad_norm_name = \"_grad_norm_name1_2.png\"\n",
    "result_folder_name = \"result3/\""
   ]
  },
  {
   "cell_type": "code",
   "execution_count": null,
   "id": "0a9750c8",
   "metadata": {},
   "outputs": [],
   "source": []
  },
  {
   "cell_type": "code",
   "execution_count": 38,
   "id": "659efadc",
   "metadata": {},
   "outputs": [],
   "source": [
    "\n",
    "# train_dataset = torchvision.datasets.MNIST(root='./data/', train=True,\n",
    "#                                  transform=torchvision.transforms.ToTensor(),\n",
    "#                                  target_transform=torchvision.transforms.Compose([\n",
    "#                                  lambda x:torch.LongTensor([x]), # or just torch.tensor\n",
    "#                                  lambda x:F.one_hot(x,10)]),\n",
    "#                                  download=True)"
   ]
  },
  {
   "cell_type": "code",
   "execution_count": 37,
   "id": "837c2816",
   "metadata": {},
   "outputs": [],
   "source": [
    "# train_dataset = torchvision.datasets.MNIST(root='./data', \n",
    "#                                            train=True, \n",
    "#                                            transform=transforms.Compose([\n",
    "#                                                 transforms.Resize((32,32)),\n",
    "#                                                 transforms.ToTensor(),\n",
    "#                                                 transforms.Normalize((0.1307,), (0.3081,))\n",
    "#                                                 ]),\n",
    "#                                            target_transform=torchvision.transforms.Compose([\n",
    "#                                                              lambda x:torch.LongTensor([x]), # or just torch.tensor\n",
    "#                                                              lambda x:F.one_hot(x,10)]),\n",
    "#                                            download=True,\n",
    "#                                           )\n",
    "\n",
    "\n",
    "# test_dataset = torchvision.datasets.MNIST(root='./data', \n",
    "#                                           train=False, \n",
    "#                                           transform=transforms.Compose([\n",
    "#                                                 transforms.Resize((32, 32)),\n",
    "#                                                 transforms.ToTensor(),\n",
    "#                                                 transforms.Normalize((0.1307,), (0.3081,))\n",
    "#                                                 ]),\n",
    "#                                           target_transform=torchvision.transforms.Compose([\n",
    "#                                                              lambda x:torch.LongTensor([x]), # or just torch.tensor\n",
    "#                                                              lambda x:F.one_hot(x,10)]),\n",
    "#                                          )"
   ]
  },
  {
   "cell_type": "code",
   "execution_count": 35,
   "id": "b30f0ee4",
   "metadata": {},
   "outputs": [],
   "source": [
    "# type(train_dataset),len(train_dataset),dir(train_dataset)"
   ]
  },
  {
   "cell_type": "code",
   "execution_count": 28,
   "id": "2311b9da",
   "metadata": {},
   "outputs": [],
   "source": [
    "# dir(test_dataset)"
   ]
  },
  {
   "cell_type": "code",
   "execution_count": 30,
   "id": "87048be6",
   "metadata": {},
   "outputs": [],
   "source": [
    "# len(train_dataset.train_labels)"
   ]
  },
  {
   "cell_type": "code",
   "execution_count": 29,
   "id": "9ea9cc9f",
   "metadata": {},
   "outputs": [],
   "source": [
    "# print(\"Size of:\")\n",
    "# print(\"- Training-set:\\t\\t{}\".format(len(train_dataset.train_labels)))\n",
    "# print(\"- Test-set:\\t\\t{}\".format(len(test_dataset.test_labels)))\n",
    "# print(\"- Validation-set:\\t{}\".format(len(data.validation.labels)))"
   ]
  },
  {
   "cell_type": "code",
   "execution_count": 31,
   "id": "de4145a3",
   "metadata": {},
   "outputs": [],
   "source": [
    "# data_test_cls = np.argmax(train_dataset.train_labels)\n",
    "# data_test_cls"
   ]
  },
  {
   "cell_type": "code",
   "execution_count": 32,
   "id": "65aef8bb",
   "metadata": {},
   "outputs": [],
   "source": [
    "# img_size = 32\n",
    "# img_size_flat = img_size * img_size\n",
    "# img_shape = (img_size, img_size)\n",
    "# num_channels = 1\n",
    "# num_classes = 10"
   ]
  },
  {
   "cell_type": "code",
   "execution_count": null,
   "id": "c29e4b91",
   "metadata": {},
   "outputs": [],
   "source": []
  },
  {
   "cell_type": "code",
   "execution_count": 33,
   "id": "bf305e90",
   "metadata": {},
   "outputs": [],
   "source": [
    "# def pow_adder_reducer(x, y):\n",
    "#     return (2 * x.pow(2) + 3 * y.pow(2)).sum()\n",
    "# inputs = (torch.rand(2), torch.rand(2))"
   ]
  },
  {
   "cell_type": "code",
   "execution_count": 34,
   "id": "6e8e42f4",
   "metadata": {},
   "outputs": [],
   "source": [
    "# inputs"
   ]
  },
  {
   "cell_type": "code",
   "execution_count": 26,
   "id": "fde75111",
   "metadata": {},
   "outputs": [
    {
     "data": {
      "text/plain": [
       "((tensor([[4., 0.],\n",
       "          [0., 4.]]),\n",
       "  tensor([[0., 0.],\n",
       "          [0., 0.]])),\n",
       " (tensor([[0., 0.],\n",
       "          [0., 0.]]),\n",
       "  tensor([[6., 0.],\n",
       "          [0., 6.]])))"
      ]
     },
     "execution_count": 26,
     "metadata": {},
     "output_type": "execute_result"
    }
   ],
   "source": [
    "torch.autograd.functional.hessian(pow_adder_reducer, inputs)"
   ]
  },
  {
   "cell_type": "code",
   "execution_count": null,
   "id": "471f0902",
   "metadata": {},
   "outputs": [],
   "source": []
  }
 ],
 "metadata": {
  "kernelspec": {
   "display_name": "Python 3 (ipykernel)",
   "language": "python",
   "name": "python3"
  },
  "language_info": {
   "codemirror_mode": {
    "name": "ipython",
    "version": 3
   },
   "file_extension": ".py",
   "mimetype": "text/x-python",
   "name": "python",
   "nbconvert_exporter": "python",
   "pygments_lexer": "ipython3",
   "version": "3.9.7"
  }
 },
 "nbformat": 4,
 "nbformat_minor": 5
}
